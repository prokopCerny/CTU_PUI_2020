{
 "cells": [
  {
   "cell_type": "code",
   "execution_count": 40,
   "metadata": {
    "collapsed": true
   },
   "outputs": [
    {
     "name": "stdout",
     "output_type": "stream",
     "text": [
      "The autoreload extension is already loaded. To reload it, use:\n",
      "  %reload_ext autoreload\n"
     ]
    }
   ],
   "source": [
    "%load_ext autoreload\n",
    "%autoreload 2\n",
    "\n",
    "import sys\n",
    "from pathlib import Path\n",
    "from glob import glob\n",
    "\n",
    "import pandas as pd\n",
    "import numpy as np\n",
    "import dill\n",
    "\n",
    "from maze_io import load_maze, string_maze, add_padding\n",
    "from maze_env import MazeEnv, MazeAction\n",
    "from agent import Agent, manhattan, euclid, zero_heuristic\n",
    "from navmesh_agent import NavmeshAgent\n",
    "from agent_utils import Stats\n",
    "from general_utils import get_optimal_path_length"
   ]
  },
  {
   "cell_type": "code",
   "execution_count": 37,
   "outputs": [],
   "source": [
    "def run_single_maze(start_loc, exit_loc, maze, agentClass, heuristic, agent_verbose=False) -> Stats:\n",
    "    env = MazeEnv(start_loc, exit_loc, maze)\n",
    "    agent = agentClass(env, heuristic=heuristic, verbose=agent_verbose)\n",
    "    agent.run()\n",
    "    return agent.statistics\n",
    "\n",
    "def prepare_maze_from_file(path):\n",
    "    with path.open(mode='r') as f:\n",
    "        padded_maze_tuple = add_padding(*load_maze(f))\n",
    "    return padded_maze_tuple"
   ],
   "metadata": {
    "collapsed": false,
    "pycharm": {
     "name": "#%%\n"
    }
   }
  },
  {
   "cell_type": "code",
   "execution_count": 14,
   "outputs": [],
   "source": [
    "n_times = 100  # how many times to repeat each maze-agent settings combination"
   ],
   "metadata": {
    "collapsed": false,
    "pycharm": {
     "name": "#%%\n"
    }
   }
  },
  {
   "cell_type": "code",
   "execution_count": null,
   "outputs": [],
   "source": [
    "inpaths = list(map(Path, glob('./mazes/*.txt')))\n",
    "maze_names = [path.stem for path in inpaths]"
   ],
   "metadata": {
    "collapsed": false,
    "pycharm": {
     "name": "#%%\n"
    }
   }
  },
  {
   "cell_type": "markdown",
   "source": [
    "# Compute A* Agent statistics\n",
    "Beware, takes a very long time (2h+)"
   ],
   "metadata": {
    "collapsed": false,
    "pycharm": {
     "name": "#%% md\n"
    }
   }
  },
  {
   "cell_type": "code",
   "execution_count": 24,
   "outputs": [
    {
     "name": "stdout",
     "output_type": "stream",
     "text": [
      "#25/25: maze-7-5 | Manhattan          \n",
      "Done\n"
     ]
    }
   ],
   "source": [
    "data = {}\n",
    "heuristics = {'None': zero_heuristic,\n",
    "              'Euclid': euclid,\n",
    "              'Manhattan': manhattan}\n",
    "for maze_num, path in enumerate(inpaths, start=1):\n",
    "    maze_name = path.stem\n",
    "    maze_data = prepare_maze_from_file(path)\n",
    "    optimal_length = get_optimal_path_length(*maze_data)\n",
    "    data[maze_name] = {\"optimal\": optimal_length}\n",
    "    for heuristic_name, heuristic in heuristics.items():\n",
    "        print(f'\\r#{maze_num}/{len(inpaths)}: {maze_name} | {heuristic_name}         ', end=\"\")\n",
    "        np.random.seed(123)\n",
    "        data[maze_name][heuristic_name] = [run_single_maze(*maze_data, Agent, heuristic=heuristic, agent_verbose=False)\n",
    "                                           for n in range(n_times)]\n",
    "print(\"\\nDone\")"
   ],
   "metadata": {
    "collapsed": false,
    "pycharm": {
     "name": "#%%\n"
    }
   }
  },
  {
   "cell_type": "markdown",
   "source": [
    "### Optional saving and loading of A* raw data\n",
    "To avoid overwriting files when run all cells is used, simple if False blocks are used, change to True if you want to save or load"
   ],
   "metadata": {
    "collapsed": false,
    "pycharm": {
     "name": "#%% md\n"
    }
   }
  },
  {
   "cell_type": "code",
   "execution_count": 32,
   "outputs": [],
   "source": [
    "if False:\n",
    "    with open('./a_star_data.dill', mode='wb') as f:\n",
    "        dill.dump(data, f)"
   ],
   "metadata": {
    "collapsed": false,
    "pycharm": {
     "name": "#%%\n"
    }
   }
  },
  {
   "cell_type": "code",
   "execution_count": 80,
   "outputs": [],
   "source": [
    "if False:\n",
    "    with open('./a_star_data.dill', mode='rb') as f:\n",
    "        astar_data = dill.load(f)"
   ],
   "metadata": {
    "collapsed": false,
    "pycharm": {
     "name": "#%%\n"
    }
   }
  },
  {
   "cell_type": "markdown",
   "source": [
    "## Create A* dataframe"
   ],
   "metadata": {
    "collapsed": false,
    "pycharm": {
     "name": "#%% md\n"
    }
   }
  },
  {
   "cell_type": "code",
   "execution_count": 81,
   "outputs": [],
   "source": [
    "dfs = []\n",
    "for name in maze_names:\n",
    "    cur_opt = astar_data[name][\"optimal\"]\n",
    "    for heur, cur_stats in astar_data[name].items():\n",
    "        if heur != \"optimal\":\n",
    "            tuplized = [(np.sum(stats.expanded_nodes),\n",
    "                         stats.replan_count,\n",
    "                         stats.steps)\n",
    "                        for stats in cur_stats]\n",
    "            cur_expanded, cur_replans, cur_steps = zip(*tuplized)\n",
    "            cur_dict = {\"maze\": name,\n",
    "                        \"heuristic\": heur,\n",
    "                        \"optimal_steps\": cur_opt,\n",
    "                        \"steps_taken\": cur_steps,\n",
    "                        \"expanded_nodes\": cur_expanded,\n",
    "                        \"replan_count\": cur_replans}\n",
    "            dfs.append(pd.DataFrame(cur_dict))\n",
    "astar_df = pd.concat(dfs)"
   ],
   "metadata": {
    "collapsed": false,
    "pycharm": {
     "name": "#%%\n"
    }
   }
  },
  {
   "cell_type": "markdown",
   "source": [
    "# Create Navmesh Agent statistics\n",
    "Is fairly quick, under a minute"
   ],
   "metadata": {
    "collapsed": false,
    "pycharm": {
     "name": "#%% md\n"
    }
   }
  },
  {
   "cell_type": "code",
   "execution_count": 83,
   "outputs": [
    {
     "name": "stdout",
     "output_type": "stream",
     "text": [
      "#25/25: maze-7-5          \n",
      "Done\n"
     ]
    }
   ],
   "source": [
    "data_navmesh = {}\n",
    "optimal_paths = {}\n",
    "for maze_num, path in enumerate(inpaths, start=1):\n",
    "    maze_name = path.stem\n",
    "    maze_data = prepare_maze_from_file(path)\n",
    "    optimal_length = get_optimal_path_length(*maze_data)\n",
    "    optimal_paths[maze_name] = optimal_length\n",
    "    print(f'\\r#{maze_num}/{len(inpaths)}: {maze_name}         ', end=\"\")\n",
    "    np.random.seed(123)\n",
    "    data_navmesh[maze_name] = [run_single_maze(*maze_data, NavmeshAgent, heuristic=None, agent_verbose=False)\n",
    "                               for n in range(n_times)]\n",
    "print(\"\\nDone\")"
   ],
   "metadata": {
    "collapsed": false,
    "pycharm": {
     "name": "#%%\n"
    }
   }
  },
  {
   "cell_type": "markdown",
   "source": [
    "## Create Navmesh Agent dataframe"
   ],
   "metadata": {
    "collapsed": false,
    "pycharm": {
     "name": "#%% md\n"
    }
   }
  },
  {
   "cell_type": "code",
   "execution_count": 45,
   "outputs": [],
   "source": [
    "dataframes = []\n",
    "for name in maze_names:\n",
    "    cur_maze_stats = data_navmesh[name]\n",
    "    cur_opt = optimal_paths[name]\n",
    "    tuplized = [(np.sum(stats.expanded_nodes),\n",
    "                 1,\n",
    "                 stats.steps) for stats in cur_maze_stats]\n",
    "    cur_expanded, cur_replans, cur_steps = zip(*tuplized)\n",
    "    cur_dict = {\"maze\": name,\n",
    "                \"optimal_steps\": cur_opt,\n",
    "                \"steps_taken\": cur_steps,\n",
    "                \"expanded_nodes\": cur_expanded,\n",
    "                \"replan_count\": cur_replans}\n",
    "    dataframes.append(pd.DataFrame(cur_dict))\n",
    "nav_df = pd.concat(dataframes)"
   ],
   "metadata": {
    "collapsed": false,
    "pycharm": {
     "name": "#%%\n"
    }
   }
  },
  {
   "cell_type": "markdown",
   "source": [
    "# Various statistics"
   ],
   "metadata": {
    "collapsed": false,
    "pycharm": {
     "name": "#%% md\n"
    }
   }
  },
  {
   "cell_type": "code",
   "execution_count": 73,
   "outputs": [
    {
     "data": {
      "text/plain": "         maze  optimal_steps  dist_to_opt  mean_steps  std_steps  min_steps  \\\n0   maze-12-1             46        39.92       85.92  13.406376         61   \n1   maze-12-2             46        38.73       84.73  11.640972         57   \n2   maze-12-3             54        45.55       99.55  11.388790         70   \n3   maze-12-4             46        39.38       85.38  11.559053         61   \n4   maze-12-5             46        36.08       82.08  11.619107         58   \n5   maze-25-1             98        87.55      185.55  20.641419        146   \n6   maze-25-2            104        91.19      195.19  18.593849        163   \n7   maze-25-3             98        79.78      177.78  15.849405        146   \n8   maze-25-4             98        84.17      182.17  17.835418        144   \n9   maze-25-5            104        93.60      197.60  19.645340        157   \n10   maze-3-1             10         7.06       17.06   4.239830         11   \n11   maze-3-2             10         7.27       17.27   5.046961         10   \n12   maze-3-3             10         8.37       18.37   5.441433         11   \n13   maze-3-4             10         8.57       18.57   5.583625         10   \n14   maze-3-5             10         7.47       17.47   4.248482         10   \n15  maze-50-1            198       171.61      369.61  24.575135        315   \n16  maze-50-2            204       174.55      378.55  26.483605        326   \n17  maze-50-3            198       168.26      366.26  23.067586        315   \n18  maze-50-4            198       166.91      364.91  24.691263        309   \n19  maze-50-5            202       166.88      368.88  26.634936        307   \n20   maze-7-1             26        19.77       45.77   8.731523         28   \n21   maze-7-2             26        23.25       49.25   9.427421         36   \n22   maze-7-3             30        23.93       53.93   9.219276         31   \n23   maze-7-4             26        23.10       49.10   8.441719         31   \n24   maze-7-5             26        21.34       47.34   8.172657         32   \n\n    max_steps  expanded_nodes  replan_count  \n0         123             339             1  \n1         126             350             1  \n2         130             356             1  \n3         119             356             1  \n4         110             351             1  \n5         246            1534             1  \n6         258            1556             1  \n7         209            1547             1  \n8         232            1542             1  \n9         247            1548             1  \n10         29              21             1  \n11         32              21             1  \n12         33              21             1  \n13         40              21             1  \n14         32              19             1  \n15        430            6256             1  \n16        452            6198             1  \n17        423            6226             1  \n18        433            6206             1  \n19        430            6229             1  \n20         77             122             1  \n21         77             117             1  \n22         83             113             1  \n23         76             116             1  \n24         69             120             1  ",
      "text/html": "<div>\n<style scoped>\n    .dataframe tbody tr th:only-of-type {\n        vertical-align: middle;\n    }\n\n    .dataframe tbody tr th {\n        vertical-align: top;\n    }\n\n    .dataframe thead th {\n        text-align: right;\n    }\n</style>\n<table border=\"1\" class=\"dataframe\">\n  <thead>\n    <tr style=\"text-align: right;\">\n      <th></th>\n      <th>maze</th>\n      <th>optimal_steps</th>\n      <th>dist_to_opt</th>\n      <th>mean_steps</th>\n      <th>std_steps</th>\n      <th>min_steps</th>\n      <th>max_steps</th>\n      <th>expanded_nodes</th>\n      <th>replan_count</th>\n    </tr>\n  </thead>\n  <tbody>\n    <tr>\n      <th>0</th>\n      <td>maze-12-1</td>\n      <td>46</td>\n      <td>39.92</td>\n      <td>85.92</td>\n      <td>13.406376</td>\n      <td>61</td>\n      <td>123</td>\n      <td>339</td>\n      <td>1</td>\n    </tr>\n    <tr>\n      <th>1</th>\n      <td>maze-12-2</td>\n      <td>46</td>\n      <td>38.73</td>\n      <td>84.73</td>\n      <td>11.640972</td>\n      <td>57</td>\n      <td>126</td>\n      <td>350</td>\n      <td>1</td>\n    </tr>\n    <tr>\n      <th>2</th>\n      <td>maze-12-3</td>\n      <td>54</td>\n      <td>45.55</td>\n      <td>99.55</td>\n      <td>11.388790</td>\n      <td>70</td>\n      <td>130</td>\n      <td>356</td>\n      <td>1</td>\n    </tr>\n    <tr>\n      <th>3</th>\n      <td>maze-12-4</td>\n      <td>46</td>\n      <td>39.38</td>\n      <td>85.38</td>\n      <td>11.559053</td>\n      <td>61</td>\n      <td>119</td>\n      <td>356</td>\n      <td>1</td>\n    </tr>\n    <tr>\n      <th>4</th>\n      <td>maze-12-5</td>\n      <td>46</td>\n      <td>36.08</td>\n      <td>82.08</td>\n      <td>11.619107</td>\n      <td>58</td>\n      <td>110</td>\n      <td>351</td>\n      <td>1</td>\n    </tr>\n    <tr>\n      <th>5</th>\n      <td>maze-25-1</td>\n      <td>98</td>\n      <td>87.55</td>\n      <td>185.55</td>\n      <td>20.641419</td>\n      <td>146</td>\n      <td>246</td>\n      <td>1534</td>\n      <td>1</td>\n    </tr>\n    <tr>\n      <th>6</th>\n      <td>maze-25-2</td>\n      <td>104</td>\n      <td>91.19</td>\n      <td>195.19</td>\n      <td>18.593849</td>\n      <td>163</td>\n      <td>258</td>\n      <td>1556</td>\n      <td>1</td>\n    </tr>\n    <tr>\n      <th>7</th>\n      <td>maze-25-3</td>\n      <td>98</td>\n      <td>79.78</td>\n      <td>177.78</td>\n      <td>15.849405</td>\n      <td>146</td>\n      <td>209</td>\n      <td>1547</td>\n      <td>1</td>\n    </tr>\n    <tr>\n      <th>8</th>\n      <td>maze-25-4</td>\n      <td>98</td>\n      <td>84.17</td>\n      <td>182.17</td>\n      <td>17.835418</td>\n      <td>144</td>\n      <td>232</td>\n      <td>1542</td>\n      <td>1</td>\n    </tr>\n    <tr>\n      <th>9</th>\n      <td>maze-25-5</td>\n      <td>104</td>\n      <td>93.60</td>\n      <td>197.60</td>\n      <td>19.645340</td>\n      <td>157</td>\n      <td>247</td>\n      <td>1548</td>\n      <td>1</td>\n    </tr>\n    <tr>\n      <th>10</th>\n      <td>maze-3-1</td>\n      <td>10</td>\n      <td>7.06</td>\n      <td>17.06</td>\n      <td>4.239830</td>\n      <td>11</td>\n      <td>29</td>\n      <td>21</td>\n      <td>1</td>\n    </tr>\n    <tr>\n      <th>11</th>\n      <td>maze-3-2</td>\n      <td>10</td>\n      <td>7.27</td>\n      <td>17.27</td>\n      <td>5.046961</td>\n      <td>10</td>\n      <td>32</td>\n      <td>21</td>\n      <td>1</td>\n    </tr>\n    <tr>\n      <th>12</th>\n      <td>maze-3-3</td>\n      <td>10</td>\n      <td>8.37</td>\n      <td>18.37</td>\n      <td>5.441433</td>\n      <td>11</td>\n      <td>33</td>\n      <td>21</td>\n      <td>1</td>\n    </tr>\n    <tr>\n      <th>13</th>\n      <td>maze-3-4</td>\n      <td>10</td>\n      <td>8.57</td>\n      <td>18.57</td>\n      <td>5.583625</td>\n      <td>10</td>\n      <td>40</td>\n      <td>21</td>\n      <td>1</td>\n    </tr>\n    <tr>\n      <th>14</th>\n      <td>maze-3-5</td>\n      <td>10</td>\n      <td>7.47</td>\n      <td>17.47</td>\n      <td>4.248482</td>\n      <td>10</td>\n      <td>32</td>\n      <td>19</td>\n      <td>1</td>\n    </tr>\n    <tr>\n      <th>15</th>\n      <td>maze-50-1</td>\n      <td>198</td>\n      <td>171.61</td>\n      <td>369.61</td>\n      <td>24.575135</td>\n      <td>315</td>\n      <td>430</td>\n      <td>6256</td>\n      <td>1</td>\n    </tr>\n    <tr>\n      <th>16</th>\n      <td>maze-50-2</td>\n      <td>204</td>\n      <td>174.55</td>\n      <td>378.55</td>\n      <td>26.483605</td>\n      <td>326</td>\n      <td>452</td>\n      <td>6198</td>\n      <td>1</td>\n    </tr>\n    <tr>\n      <th>17</th>\n      <td>maze-50-3</td>\n      <td>198</td>\n      <td>168.26</td>\n      <td>366.26</td>\n      <td>23.067586</td>\n      <td>315</td>\n      <td>423</td>\n      <td>6226</td>\n      <td>1</td>\n    </tr>\n    <tr>\n      <th>18</th>\n      <td>maze-50-4</td>\n      <td>198</td>\n      <td>166.91</td>\n      <td>364.91</td>\n      <td>24.691263</td>\n      <td>309</td>\n      <td>433</td>\n      <td>6206</td>\n      <td>1</td>\n    </tr>\n    <tr>\n      <th>19</th>\n      <td>maze-50-5</td>\n      <td>202</td>\n      <td>166.88</td>\n      <td>368.88</td>\n      <td>26.634936</td>\n      <td>307</td>\n      <td>430</td>\n      <td>6229</td>\n      <td>1</td>\n    </tr>\n    <tr>\n      <th>20</th>\n      <td>maze-7-1</td>\n      <td>26</td>\n      <td>19.77</td>\n      <td>45.77</td>\n      <td>8.731523</td>\n      <td>28</td>\n      <td>77</td>\n      <td>122</td>\n      <td>1</td>\n    </tr>\n    <tr>\n      <th>21</th>\n      <td>maze-7-2</td>\n      <td>26</td>\n      <td>23.25</td>\n      <td>49.25</td>\n      <td>9.427421</td>\n      <td>36</td>\n      <td>77</td>\n      <td>117</td>\n      <td>1</td>\n    </tr>\n    <tr>\n      <th>22</th>\n      <td>maze-7-3</td>\n      <td>30</td>\n      <td>23.93</td>\n      <td>53.93</td>\n      <td>9.219276</td>\n      <td>31</td>\n      <td>83</td>\n      <td>113</td>\n      <td>1</td>\n    </tr>\n    <tr>\n      <th>23</th>\n      <td>maze-7-4</td>\n      <td>26</td>\n      <td>23.10</td>\n      <td>49.10</td>\n      <td>8.441719</td>\n      <td>31</td>\n      <td>76</td>\n      <td>116</td>\n      <td>1</td>\n    </tr>\n    <tr>\n      <th>24</th>\n      <td>maze-7-5</td>\n      <td>26</td>\n      <td>21.34</td>\n      <td>47.34</td>\n      <td>8.172657</td>\n      <td>32</td>\n      <td>69</td>\n      <td>120</td>\n      <td>1</td>\n    </tr>\n  </tbody>\n</table>\n</div>"
     },
     "execution_count": 73,
     "metadata": {},
     "output_type": "execute_result"
    }
   ],
   "source": [
    "nav_df.groupby('maze').agg(optimal_steps=('optimal_steps', max),\n",
    "                           dist_to_opt=('dist_to_opt', np.mean),\n",
    "                           mean_steps=('steps_taken', np.mean),\n",
    "                           std_steps=('steps_taken', np.std),\n",
    "                           min_steps=('steps_taken', min),\n",
    "                           max_steps=('steps_taken', max),\n",
    "                           expanded_nodes=('expanded_nodes', max),\n",
    "                           replan_count=('replan_count', max)).reset_index()\n"
   ],
   "metadata": {
    "collapsed": false,
    "pycharm": {
     "name": "#%%\n"
    }
   }
  },
  {
   "cell_type": "code",
   "execution_count": 82,
   "outputs": [
    {
     "data": {
      "text/plain": "                     optimal_steps  steps_taken  expanded_nodes  replan_count\nmaze      heuristic                                                          \nmaze-12-1 Euclid              46.0        84.06         1519.19         12.40\n          Manhattan           46.0        84.47          889.01         12.59\n          None                46.0        84.75         2905.15         12.28\nmaze-12-2 Euclid              46.0        84.41         1801.94         14.56\n          Manhattan           46.0        82.54          949.81         13.86\n...                            ...          ...             ...           ...\nmaze-7-4  Manhattan           26.0        50.87          301.17          9.23\n          None                26.0        50.40          786.08          8.80\nmaze-7-5  Euclid              26.0        47.59          474.96          8.96\n          Manhattan           26.0        46.98          378.08          8.16\n          None                26.0        48.11          816.10          8.49\n\n[75 rows x 4 columns]",
      "text/html": "<div>\n<style scoped>\n    .dataframe tbody tr th:only-of-type {\n        vertical-align: middle;\n    }\n\n    .dataframe tbody tr th {\n        vertical-align: top;\n    }\n\n    .dataframe thead th {\n        text-align: right;\n    }\n</style>\n<table border=\"1\" class=\"dataframe\">\n  <thead>\n    <tr style=\"text-align: right;\">\n      <th></th>\n      <th></th>\n      <th>optimal_steps</th>\n      <th>steps_taken</th>\n      <th>expanded_nodes</th>\n      <th>replan_count</th>\n    </tr>\n    <tr>\n      <th>maze</th>\n      <th>heuristic</th>\n      <th></th>\n      <th></th>\n      <th></th>\n      <th></th>\n    </tr>\n  </thead>\n  <tbody>\n    <tr>\n      <th rowspan=\"3\" valign=\"top\">maze-12-1</th>\n      <th>Euclid</th>\n      <td>46.0</td>\n      <td>84.06</td>\n      <td>1519.19</td>\n      <td>12.40</td>\n    </tr>\n    <tr>\n      <th>Manhattan</th>\n      <td>46.0</td>\n      <td>84.47</td>\n      <td>889.01</td>\n      <td>12.59</td>\n    </tr>\n    <tr>\n      <th>None</th>\n      <td>46.0</td>\n      <td>84.75</td>\n      <td>2905.15</td>\n      <td>12.28</td>\n    </tr>\n    <tr>\n      <th rowspan=\"2\" valign=\"top\">maze-12-2</th>\n      <th>Euclid</th>\n      <td>46.0</td>\n      <td>84.41</td>\n      <td>1801.94</td>\n      <td>14.56</td>\n    </tr>\n    <tr>\n      <th>Manhattan</th>\n      <td>46.0</td>\n      <td>82.54</td>\n      <td>949.81</td>\n      <td>13.86</td>\n    </tr>\n    <tr>\n      <th>...</th>\n      <th>...</th>\n      <td>...</td>\n      <td>...</td>\n      <td>...</td>\n      <td>...</td>\n    </tr>\n    <tr>\n      <th rowspan=\"2\" valign=\"top\">maze-7-4</th>\n      <th>Manhattan</th>\n      <td>26.0</td>\n      <td>50.87</td>\n      <td>301.17</td>\n      <td>9.23</td>\n    </tr>\n    <tr>\n      <th>None</th>\n      <td>26.0</td>\n      <td>50.40</td>\n      <td>786.08</td>\n      <td>8.80</td>\n    </tr>\n    <tr>\n      <th rowspan=\"3\" valign=\"top\">maze-7-5</th>\n      <th>Euclid</th>\n      <td>26.0</td>\n      <td>47.59</td>\n      <td>474.96</td>\n      <td>8.96</td>\n    </tr>\n    <tr>\n      <th>Manhattan</th>\n      <td>26.0</td>\n      <td>46.98</td>\n      <td>378.08</td>\n      <td>8.16</td>\n    </tr>\n    <tr>\n      <th>None</th>\n      <td>26.0</td>\n      <td>48.11</td>\n      <td>816.10</td>\n      <td>8.49</td>\n    </tr>\n  </tbody>\n</table>\n<p>75 rows × 4 columns</p>\n</div>"
     },
     "execution_count": 82,
     "metadata": {},
     "output_type": "execute_result"
    }
   ],
   "source": [
    "astar_df.groupby(['maze', 'heuristic']).mean()"
   ],
   "metadata": {
    "collapsed": false,
    "pycharm": {
     "name": "#%%\n"
    }
   }
  }
 ],
 "metadata": {
  "kernelspec": {
   "display_name": "Python 3",
   "language": "python",
   "name": "python3"
  },
  "language_info": {
   "codemirror_mode": {
    "name": "ipython",
    "version": 2
   },
   "file_extension": ".py",
   "mimetype": "text/x-python",
   "name": "python",
   "nbconvert_exporter": "python",
   "pygments_lexer": "ipython2",
   "version": "2.7.6"
  }
 },
 "nbformat": 4,
 "nbformat_minor": 0
}