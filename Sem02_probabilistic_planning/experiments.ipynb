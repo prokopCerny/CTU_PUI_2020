{
 "cells": [
  {
   "cell_type": "code",
   "execution_count": 19,
   "metadata": {
    "collapsed": true
   },
   "outputs": [
    {
     "name": "stdout",
     "output_type": "stream",
     "text": [
      "The autoreload extension is already loaded. To reload it, use:\n",
      "  %reload_ext autoreload\n"
     ]
    }
   ],
   "source": [
    "from typing import List, Tuple\n",
    "%load_ext autoreload\n",
    "%autoreload 2\n",
    "\n",
    "import sys\n",
    "from pathlib import Path\n",
    "from glob import glob\n",
    "\n",
    "import pandas as pd\n",
    "import numpy as np\n",
    "import dill\n",
    "\n",
    "from maze_io import load_maze, string_maze, add_padding\n",
    "from maze_env import MazeEnv, MazeAction\n",
    "from agent import Agent, manhattan, euclid, zero_heuristic\n",
    "from navmesh_agent import NavmeshAgent\n",
    "from agent_utils import Stats\n",
    "from general_utils import get_optimal_path_length"
   ]
  },
  {
   "cell_type": "code",
   "execution_count": 20,
   "outputs": [],
   "source": [
    "def run_single_maze(start_loc, exit_loc, maze, agentClass, heuristic, agent_verbose=False) -> Stats:\n",
    "    env = MazeEnv(start_loc, exit_loc, maze)\n",
    "    agent = agentClass(env, heuristic=heuristic, verbose=agent_verbose)\n",
    "    agent.run()\n",
    "    return agent.statistics\n",
    "\n",
    "def prepare_maze_from_file(path):\n",
    "    with path.open(mode='r') as f:\n",
    "        padded_maze_tuple = add_padding(*load_maze(f))\n",
    "    return padded_maze_tuple"
   ],
   "metadata": {
    "collapsed": false,
    "pycharm": {
     "name": "#%%\n"
    }
   }
  },
  {
   "cell_type": "code",
   "execution_count": 21,
   "outputs": [],
   "source": [
    "n_times = 100  # how many times to repeat each maze-agent settings combination"
   ],
   "metadata": {
    "collapsed": false,
    "pycharm": {
     "name": "#%%\n"
    }
   }
  },
  {
   "cell_type": "code",
   "execution_count": 22,
   "outputs": [],
   "source": [
    "inpaths = list(map(Path, glob('./mazes/*.txt')))\n",
    "maze_names = [path.stem for path in inpaths]"
   ],
   "metadata": {
    "collapsed": false,
    "pycharm": {
     "name": "#%%\n"
    }
   }
  },
  {
   "cell_type": "markdown",
   "source": [
    "# Compute or load A* Agent statistics\n",
    "Beware, takes a very long time (2h+), load them if any available"
   ],
   "metadata": {
    "collapsed": false,
    "pycharm": {
     "name": "#%% md\n"
    }
   }
  },
  {
   "cell_type": "code",
   "execution_count": 23,
   "outputs": [],
   "source": [
    "def run_a_star_experiments(each_n_times: int,\n",
    "                           inpaths: List[Path],\n",
    "                           numpy_seed=123,\n",
    "                           save_to_file=False) -> dict:\n",
    "    \"\"\"\n",
    "    Function for running A* experiments for all heuristics (None, Euclidean dist, Manhattan dist)\n",
    "    :param each_n_times: How many times to run each maze/heuristic combination\n",
    "    :param inpaths: List of paths to each maze file\n",
    "    :param numpy_seed: The same seed is used before running each maze/heuristic combination each_n_times times,\n",
    "     so that different agents experience the same environment behaviour over the experiments.\n",
    "    :param save_to_file: Whether to save the results to file\n",
    "    :return: A nested dictionary with results,\n",
    "     examine the function to see structure,\n",
    "     but it is recommended to just use the following function\n",
    "     to transform output of this function into a DataFrame\n",
    "    \"\"\"\n",
    "    data = {}\n",
    "    heuristics = {'None': zero_heuristic,\n",
    "                  'Euclid': euclid,\n",
    "                  'Manhattan': manhattan}\n",
    "    for maze_num, path in enumerate(inpaths, start=1):\n",
    "        maze_name = path.stem\n",
    "        maze_data = prepare_maze_from_file(path)\n",
    "        optimal_length = get_optimal_path_length(*maze_data)\n",
    "        data[maze_name] = {\"optimal\": optimal_length}\n",
    "\n",
    "        for heuristic_name, heuristic in heuristics.items():\n",
    "            print(f'\\r#{maze_num}/{len(inpaths)}: {maze_name} | {heuristic_name}         ', end=\"\")\n",
    "            np.random.seed(numpy_seed)\n",
    "            data[maze_name][heuristic_name] = [run_single_maze(*maze_data,\n",
    "                                                               Agent,\n",
    "                                                               heuristic=heuristic,\n",
    "                                                               agent_verbose=False)\n",
    "                                               for _ in range(each_n_times)]\n",
    "\n",
    "    if save_to_file:\n",
    "        with open('./a_star_dict_data.dill', mode='wb') as f:\n",
    "            dill.dump(data, f)\n",
    "\n",
    "    print(\"\\nDone\")\n",
    "    return data\n"
   ],
   "metadata": {
    "collapsed": false,
    "pycharm": {
     "name": "#%%\n"
    }
   }
  },
  {
   "cell_type": "code",
   "execution_count": 24,
   "outputs": [],
   "source": [
    "load_astar_from_file = True  # if false, compute them\n",
    "if load_astar_from_file:\n",
    "    with open('./a_star_data_seeded.dill', mode='rb') as f:\n",
    "        astar_data = dill.load(f)\n",
    "else:\n",
    "    astar_data = run_a_star_experiments(n_times, inpaths, save_to_file=False)"
   ],
   "metadata": {
    "collapsed": false,
    "pycharm": {
     "name": "#%%\n"
    }
   }
  },
  {
   "cell_type": "markdown",
   "source": [
    "## Create A* dataframe"
   ],
   "metadata": {
    "collapsed": false,
    "pycharm": {
     "name": "#%% md\n"
    }
   }
  },
  {
   "cell_type": "code",
   "execution_count": 25,
   "outputs": [],
   "source": [
    "def create_dataframe_from_a_star_dict(astar_data: dict, maze_names: List[str]) -> pd.DataFrame:\n",
    "    dfs = []\n",
    "    for name in maze_names:\n",
    "        cur_opt = astar_data[name][\"optimal\"]\n",
    "        for heur, cur_stats in astar_data[name].items():\n",
    "            if heur != \"optimal\":\n",
    "                tuplized = [(np.sum(stats.expanded_nodes),\n",
    "                             stats.replan_count,\n",
    "                             stats.steps)\n",
    "                            for stats in cur_stats]\n",
    "                cur_expanded, cur_replans, cur_steps = zip(*tuplized)\n",
    "                cur_dict = {\"maze\": name,\n",
    "                            \"heuristic\": heur,\n",
    "                            \"optimal_steps\": cur_opt,\n",
    "                            \"steps_taken\": cur_steps,\n",
    "                            \"expanded_nodes\": cur_expanded,\n",
    "                            \"replan_count\": cur_replans}\n",
    "                dfs.append(pd.DataFrame(cur_dict))\n",
    "    df = pd.concat(dfs, ignore_index=True)\n",
    "    df[\"maze\"] = df[\"maze\"].astype('category')\n",
    "    df[\"heuristic\"] = df[\"heuristic\"].astype('category')\n",
    "    return df"
   ],
   "metadata": {
    "collapsed": false,
    "pycharm": {
     "name": "#%%\n"
    }
   }
  },
  {
   "cell_type": "code",
   "execution_count": 26,
   "outputs": [],
   "source": [
    "astar_df = create_dataframe_from_a_star_dict(astar_data, maze_names)"
   ],
   "metadata": {
    "collapsed": false,
    "pycharm": {
     "name": "#%%\n"
    }
   }
  },
  {
   "cell_type": "markdown",
   "source": [
    "# Create Navmesh Agent statistics\n",
    "Is fairly quick, under a minute"
   ],
   "metadata": {
    "collapsed": false,
    "pycharm": {
     "name": "#%% md\n"
    }
   }
  },
  {
   "cell_type": "code",
   "execution_count": 27,
   "outputs": [],
   "source": [
    "def run_navmesh_experiments(each_n_times: int, inpaths: List[Path], numpy_seed=123) -> Tuple[dict, dict]:\n",
    "    data_navmesh = {}\n",
    "    optimal_paths = {}\n",
    "    for maze_num, path in enumerate(inpaths, start=1):\n",
    "        maze_name = path.stem\n",
    "        maze_data = prepare_maze_from_file(path)\n",
    "        optimal_length = get_optimal_path_length(*maze_data)\n",
    "        optimal_paths[maze_name] = optimal_length\n",
    "        print(f'\\r#{maze_num}/{len(inpaths)}: {maze_name}         ', end=\"\")\n",
    "        np.random.seed(numpy_seed)\n",
    "        data_navmesh[maze_name] = [run_single_maze(*maze_data, NavmeshAgent, heuristic=None, agent_verbose=False)\n",
    "                                   for _ in range(each_n_times)]\n",
    "    print(\"\\nDone\")\n",
    "    return data_navmesh, optimal_paths"
   ],
   "metadata": {
    "collapsed": false,
    "pycharm": {
     "name": "#%%\n"
    }
   }
  },
  {
   "cell_type": "markdown",
   "source": [
    "## Create Navmesh Agent dataframe"
   ],
   "metadata": {
    "collapsed": false,
    "pycharm": {
     "name": "#%% md\n"
    }
   }
  },
  {
   "cell_type": "code",
   "execution_count": 28,
   "outputs": [],
   "source": [
    "def create_dataframe_from_navmesh_dict(navmesh_data_dict: dict, optimal_pathlen_dict: dict, maze_names: List[str]) -> pd.DataFrame:\n",
    "    dataframes = []\n",
    "    for name in maze_names:\n",
    "        cur_maze_stats = navmesh_data_dict[name]\n",
    "        cur_opt = optimal_pathlen_dict[name]\n",
    "        tuplized = [(np.sum(stats.expanded_nodes),\n",
    "                     1,\n",
    "                     stats.steps) for stats in cur_maze_stats]\n",
    "        cur_expanded, cur_replans, cur_steps = zip(*tuplized)\n",
    "        cur_dict = {\"maze\": name,\n",
    "                    \"optimal_steps\": cur_opt,\n",
    "                    \"steps_taken\": cur_steps,\n",
    "                    \"expanded_nodes\": cur_expanded,\n",
    "                    \"replan_count\": cur_replans}\n",
    "        dataframes.append(pd.DataFrame(cur_dict))\n",
    "    df = pd.concat(dataframes, ignore_index=True)\n",
    "    df[\"maze\"] = df[\"maze\"].astype('category')\n",
    "    return df"
   ],
   "metadata": {
    "collapsed": false,
    "pycharm": {
     "name": "#%%\n"
    }
   }
  },
  {
   "cell_type": "code",
   "execution_count": 67,
   "outputs": [
    {
     "name": "stdout",
     "output_type": "stream",
     "text": [
      "#25/25: maze-7-5          \n",
      "Done\n"
     ]
    }
   ],
   "source": [
    "nav_df = create_dataframe_from_navmesh_dict(*run_navmesh_experiments(n_times, inpaths), maze_names)"
   ],
   "metadata": {
    "collapsed": false,
    "pycharm": {
     "name": "#%%\n"
    }
   }
  },
  {
   "cell_type": "code",
   "execution_count": 68,
   "outputs": [],
   "source": [
    "def create_everything_dataframe(navmesh_df: pd.DataFrame, astar_df: pd.DataFrame) -> pd.DataFrame:\n",
    "    nav_df_copy = navmesh_df.copy()\n",
    "    nav_df_copy['heuristic'] = \"Navmesh\"\n",
    "    all_df = pd.concat([astar_df, nav_df_copy], ignore_index=True)\n",
    "    all_df.rename(columns={\"heuristic\": \"agent\"}, inplace=True)\n",
    "    all_df.agent = all_df.agent.astype('category')\n",
    "    all_df.agent.cat.rename_categories({\"None\": \"Dijkstra\",\n",
    "                                        \"Manhattan\": \"A*Manhattan\",\n",
    "                                        \"Euclid\": \"A*Euclid\"},\n",
    "                                       inplace=True)\n",
    "    return all_df"
   ],
   "metadata": {
    "collapsed": false,
    "pycharm": {
     "name": "#%%\n"
    }
   }
  },
  {
   "cell_type": "code",
   "execution_count": 71,
   "outputs": [
    {
     "name": "stdout",
     "output_type": "stream",
     "text": [
      "<class 'pandas.core.frame.DataFrame'>\n",
      "RangeIndex: 10000 entries, 0 to 9999\n",
      "Data columns (total 6 columns):\n",
      " #   Column          Non-Null Count  Dtype   \n",
      "---  ------          --------------  -----   \n",
      " 0   maze            10000 non-null  category\n",
      " 1   agent           10000 non-null  category\n",
      " 2   optimal_steps   10000 non-null  int64   \n",
      " 3   steps_taken     10000 non-null  int64   \n",
      " 4   expanded_nodes  10000 non-null  int64   \n",
      " 5   replan_count    10000 non-null  int64   \n",
      "dtypes: category(2), int64(4)\n",
      "memory usage: 333.2 KB\n"
     ]
    }
   ],
   "source": [
    "all_df = create_everything_dataframe(nav_df, astar_df)"
   ],
   "metadata": {
    "collapsed": false,
    "pycharm": {
     "name": "#%%\n"
    }
   }
  },
  {
   "cell_type": "code",
   "execution_count": 70,
   "outputs": [],
   "source": [
    "all_df.to_csv(\"all_dataframe.csv\", index=False)"
   ],
   "metadata": {
    "collapsed": false,
    "pycharm": {
     "name": "#%%\n"
    }
   }
  },
  {
   "cell_type": "code",
   "execution_count": null,
   "outputs": [],
   "source": [
    "all_df = pd.read_csv(\"all_dataframe.csv\", dtype={\"maze\": \"category\", \"agent\": \"category\"})"
   ],
   "metadata": {
    "collapsed": false,
    "pycharm": {
     "name": "#%%\n"
    }
   }
  },
  {
   "cell_type": "markdown",
   "source": [
    "# Various statistics"
   ],
   "metadata": {
    "collapsed": false,
    "pycharm": {
     "name": "#%% md\n"
    }
   }
  },
  {
   "cell_type": "code",
   "execution_count": 30,
   "outputs": [
    {
     "data": {
      "text/plain": "           optimal_steps  mean_steps  std_steps  min_steps  max_steps  \\\nmaze                                                                    \nmaze-12-1             46       85.28  11.745689         54        113   \nmaze-12-2             46       83.68  11.425543         60        121   \nmaze-12-3             54       99.80  12.966935         72        132   \nmaze-12-4             46       85.21  12.361798         54        119   \nmaze-12-5             46       83.30  12.464495         61        138   \nmaze-25-1             98      183.96  18.109052        145        231   \nmaze-25-2            104      193.04  20.271351        145        248   \nmaze-25-3             98      181.77  19.486776        139        242   \nmaze-25-4             98      184.21  18.770434        136        229   \nmaze-25-5            104      195.57  19.193988        148        237   \nmaze-3-1              10       17.41   4.901237         11         37   \nmaze-3-2              10       18.15   5.596491         10         37   \nmaze-3-3              10       18.09   5.648089         10         32   \nmaze-3-4              10       18.91   5.683744         11         38   \nmaze-3-5              10       18.25   5.271181         10         40   \nmaze-50-1            198      367.85  25.223596        301        423   \nmaze-50-2            204      380.34  25.550987        319        458   \nmaze-50-3            198      371.01  25.498463        317        438   \nmaze-50-4            198      365.46  25.467515        311        448   \nmaze-50-5            202      372.04  24.920852        317        442   \nmaze-7-1              26       47.34   9.189608         28         74   \nmaze-7-2              26       48.69   9.132797         31         76   \nmaze-7-3              30       54.60   9.692234         34         84   \nmaze-7-4              26       50.48   9.778848         30         77   \nmaze-7-5              26       47.78   8.892830         31         69   \n\n           expanded_nodes  replan_count  \nmaze                                     \nmaze-12-1             339             1  \nmaze-12-2             350             1  \nmaze-12-3             356             1  \nmaze-12-4             356             1  \nmaze-12-5             351             1  \nmaze-25-1            1534             1  \nmaze-25-2            1556             1  \nmaze-25-3            1547             1  \nmaze-25-4            1542             1  \nmaze-25-5            1548             1  \nmaze-3-1               21             1  \nmaze-3-2               21             1  \nmaze-3-3               21             1  \nmaze-3-4               21             1  \nmaze-3-5               19             1  \nmaze-50-1            6256             1  \nmaze-50-2            6198             1  \nmaze-50-3            6226             1  \nmaze-50-4            6206             1  \nmaze-50-5            6229             1  \nmaze-7-1              122             1  \nmaze-7-2              117             1  \nmaze-7-3              113             1  \nmaze-7-4              116             1  \nmaze-7-5              120             1  ",
      "text/html": "<div>\n<style scoped>\n    .dataframe tbody tr th:only-of-type {\n        vertical-align: middle;\n    }\n\n    .dataframe tbody tr th {\n        vertical-align: top;\n    }\n\n    .dataframe thead th {\n        text-align: right;\n    }\n</style>\n<table border=\"1\" class=\"dataframe\">\n  <thead>\n    <tr style=\"text-align: right;\">\n      <th></th>\n      <th>optimal_steps</th>\n      <th>mean_steps</th>\n      <th>std_steps</th>\n      <th>min_steps</th>\n      <th>max_steps</th>\n      <th>expanded_nodes</th>\n      <th>replan_count</th>\n    </tr>\n    <tr>\n      <th>maze</th>\n      <th></th>\n      <th></th>\n      <th></th>\n      <th></th>\n      <th></th>\n      <th></th>\n      <th></th>\n    </tr>\n  </thead>\n  <tbody>\n    <tr>\n      <th>maze-12-1</th>\n      <td>46</td>\n      <td>85.28</td>\n      <td>11.745689</td>\n      <td>54</td>\n      <td>113</td>\n      <td>339</td>\n      <td>1</td>\n    </tr>\n    <tr>\n      <th>maze-12-2</th>\n      <td>46</td>\n      <td>83.68</td>\n      <td>11.425543</td>\n      <td>60</td>\n      <td>121</td>\n      <td>350</td>\n      <td>1</td>\n    </tr>\n    <tr>\n      <th>maze-12-3</th>\n      <td>54</td>\n      <td>99.80</td>\n      <td>12.966935</td>\n      <td>72</td>\n      <td>132</td>\n      <td>356</td>\n      <td>1</td>\n    </tr>\n    <tr>\n      <th>maze-12-4</th>\n      <td>46</td>\n      <td>85.21</td>\n      <td>12.361798</td>\n      <td>54</td>\n      <td>119</td>\n      <td>356</td>\n      <td>1</td>\n    </tr>\n    <tr>\n      <th>maze-12-5</th>\n      <td>46</td>\n      <td>83.30</td>\n      <td>12.464495</td>\n      <td>61</td>\n      <td>138</td>\n      <td>351</td>\n      <td>1</td>\n    </tr>\n    <tr>\n      <th>maze-25-1</th>\n      <td>98</td>\n      <td>183.96</td>\n      <td>18.109052</td>\n      <td>145</td>\n      <td>231</td>\n      <td>1534</td>\n      <td>1</td>\n    </tr>\n    <tr>\n      <th>maze-25-2</th>\n      <td>104</td>\n      <td>193.04</td>\n      <td>20.271351</td>\n      <td>145</td>\n      <td>248</td>\n      <td>1556</td>\n      <td>1</td>\n    </tr>\n    <tr>\n      <th>maze-25-3</th>\n      <td>98</td>\n      <td>181.77</td>\n      <td>19.486776</td>\n      <td>139</td>\n      <td>242</td>\n      <td>1547</td>\n      <td>1</td>\n    </tr>\n    <tr>\n      <th>maze-25-4</th>\n      <td>98</td>\n      <td>184.21</td>\n      <td>18.770434</td>\n      <td>136</td>\n      <td>229</td>\n      <td>1542</td>\n      <td>1</td>\n    </tr>\n    <tr>\n      <th>maze-25-5</th>\n      <td>104</td>\n      <td>195.57</td>\n      <td>19.193988</td>\n      <td>148</td>\n      <td>237</td>\n      <td>1548</td>\n      <td>1</td>\n    </tr>\n    <tr>\n      <th>maze-3-1</th>\n      <td>10</td>\n      <td>17.41</td>\n      <td>4.901237</td>\n      <td>11</td>\n      <td>37</td>\n      <td>21</td>\n      <td>1</td>\n    </tr>\n    <tr>\n      <th>maze-3-2</th>\n      <td>10</td>\n      <td>18.15</td>\n      <td>5.596491</td>\n      <td>10</td>\n      <td>37</td>\n      <td>21</td>\n      <td>1</td>\n    </tr>\n    <tr>\n      <th>maze-3-3</th>\n      <td>10</td>\n      <td>18.09</td>\n      <td>5.648089</td>\n      <td>10</td>\n      <td>32</td>\n      <td>21</td>\n      <td>1</td>\n    </tr>\n    <tr>\n      <th>maze-3-4</th>\n      <td>10</td>\n      <td>18.91</td>\n      <td>5.683744</td>\n      <td>11</td>\n      <td>38</td>\n      <td>21</td>\n      <td>1</td>\n    </tr>\n    <tr>\n      <th>maze-3-5</th>\n      <td>10</td>\n      <td>18.25</td>\n      <td>5.271181</td>\n      <td>10</td>\n      <td>40</td>\n      <td>19</td>\n      <td>1</td>\n    </tr>\n    <tr>\n      <th>maze-50-1</th>\n      <td>198</td>\n      <td>367.85</td>\n      <td>25.223596</td>\n      <td>301</td>\n      <td>423</td>\n      <td>6256</td>\n      <td>1</td>\n    </tr>\n    <tr>\n      <th>maze-50-2</th>\n      <td>204</td>\n      <td>380.34</td>\n      <td>25.550987</td>\n      <td>319</td>\n      <td>458</td>\n      <td>6198</td>\n      <td>1</td>\n    </tr>\n    <tr>\n      <th>maze-50-3</th>\n      <td>198</td>\n      <td>371.01</td>\n      <td>25.498463</td>\n      <td>317</td>\n      <td>438</td>\n      <td>6226</td>\n      <td>1</td>\n    </tr>\n    <tr>\n      <th>maze-50-4</th>\n      <td>198</td>\n      <td>365.46</td>\n      <td>25.467515</td>\n      <td>311</td>\n      <td>448</td>\n      <td>6206</td>\n      <td>1</td>\n    </tr>\n    <tr>\n      <th>maze-50-5</th>\n      <td>202</td>\n      <td>372.04</td>\n      <td>24.920852</td>\n      <td>317</td>\n      <td>442</td>\n      <td>6229</td>\n      <td>1</td>\n    </tr>\n    <tr>\n      <th>maze-7-1</th>\n      <td>26</td>\n      <td>47.34</td>\n      <td>9.189608</td>\n      <td>28</td>\n      <td>74</td>\n      <td>122</td>\n      <td>1</td>\n    </tr>\n    <tr>\n      <th>maze-7-2</th>\n      <td>26</td>\n      <td>48.69</td>\n      <td>9.132797</td>\n      <td>31</td>\n      <td>76</td>\n      <td>117</td>\n      <td>1</td>\n    </tr>\n    <tr>\n      <th>maze-7-3</th>\n      <td>30</td>\n      <td>54.60</td>\n      <td>9.692234</td>\n      <td>34</td>\n      <td>84</td>\n      <td>113</td>\n      <td>1</td>\n    </tr>\n    <tr>\n      <th>maze-7-4</th>\n      <td>26</td>\n      <td>50.48</td>\n      <td>9.778848</td>\n      <td>30</td>\n      <td>77</td>\n      <td>116</td>\n      <td>1</td>\n    </tr>\n    <tr>\n      <th>maze-7-5</th>\n      <td>26</td>\n      <td>47.78</td>\n      <td>8.892830</td>\n      <td>31</td>\n      <td>69</td>\n      <td>120</td>\n      <td>1</td>\n    </tr>\n  </tbody>\n</table>\n</div>"
     },
     "execution_count": 30,
     "metadata": {},
     "output_type": "execute_result"
    }
   ],
   "source": [
    "nav_df_sel = nav_df.groupby('maze').agg(optimal_steps=('optimal_steps', max),\n",
    "                           mean_steps=('steps_taken', np.mean),\n",
    "                           std_steps=('steps_taken', np.std),\n",
    "                           min_steps=('steps_taken', min),\n",
    "                           max_steps=('steps_taken', max),\n",
    "                           expanded_nodes=('expanded_nodes', max),\n",
    "                           replan_count=('replan_count', max))\n",
    "nav_df_sel"
   ],
   "metadata": {
    "collapsed": false,
    "pycharm": {
     "name": "#%%\n"
    }
   }
  },
  {
   "cell_type": "code",
   "execution_count": 31,
   "outputs": [
    {
     "data": {
      "text/plain": "                     optimal_steps  steps_taken  expanded_nodes  replan_count\nmaze      heuristic                                                          \nmaze-12-1 Euclid              46.0        85.87         1572.67         13.25\n          Manhattan           46.0        85.28          930.86         12.49\n          None                46.0        85.28         2984.55         12.43\nmaze-12-2 Euclid              46.0        82.97         1782.60         14.02\n          Manhattan           46.0        83.68          990.54         14.12\n...                            ...          ...             ...           ...\nmaze-7-4  Manhattan           26.0        50.48          299.40          9.21\n          None                26.0        50.02          784.90          8.84\nmaze-7-5  Euclid              26.0        46.04          440.61          8.28\n          Manhattan           26.0        47.78          403.03          8.47\n          None                26.0        47.78          797.06          8.47\n\n[75 rows x 4 columns]",
      "text/html": "<div>\n<style scoped>\n    .dataframe tbody tr th:only-of-type {\n        vertical-align: middle;\n    }\n\n    .dataframe tbody tr th {\n        vertical-align: top;\n    }\n\n    .dataframe thead th {\n        text-align: right;\n    }\n</style>\n<table border=\"1\" class=\"dataframe\">\n  <thead>\n    <tr style=\"text-align: right;\">\n      <th></th>\n      <th></th>\n      <th>optimal_steps</th>\n      <th>steps_taken</th>\n      <th>expanded_nodes</th>\n      <th>replan_count</th>\n    </tr>\n    <tr>\n      <th>maze</th>\n      <th>heuristic</th>\n      <th></th>\n      <th></th>\n      <th></th>\n      <th></th>\n    </tr>\n  </thead>\n  <tbody>\n    <tr>\n      <th rowspan=\"3\" valign=\"top\">maze-12-1</th>\n      <th>Euclid</th>\n      <td>46.0</td>\n      <td>85.87</td>\n      <td>1572.67</td>\n      <td>13.25</td>\n    </tr>\n    <tr>\n      <th>Manhattan</th>\n      <td>46.0</td>\n      <td>85.28</td>\n      <td>930.86</td>\n      <td>12.49</td>\n    </tr>\n    <tr>\n      <th>None</th>\n      <td>46.0</td>\n      <td>85.28</td>\n      <td>2984.55</td>\n      <td>12.43</td>\n    </tr>\n    <tr>\n      <th rowspan=\"2\" valign=\"top\">maze-12-2</th>\n      <th>Euclid</th>\n      <td>46.0</td>\n      <td>82.97</td>\n      <td>1782.60</td>\n      <td>14.02</td>\n    </tr>\n    <tr>\n      <th>Manhattan</th>\n      <td>46.0</td>\n      <td>83.68</td>\n      <td>990.54</td>\n      <td>14.12</td>\n    </tr>\n    <tr>\n      <th>...</th>\n      <th>...</th>\n      <td>...</td>\n      <td>...</td>\n      <td>...</td>\n      <td>...</td>\n    </tr>\n    <tr>\n      <th rowspan=\"2\" valign=\"top\">maze-7-4</th>\n      <th>Manhattan</th>\n      <td>26.0</td>\n      <td>50.48</td>\n      <td>299.40</td>\n      <td>9.21</td>\n    </tr>\n    <tr>\n      <th>None</th>\n      <td>26.0</td>\n      <td>50.02</td>\n      <td>784.90</td>\n      <td>8.84</td>\n    </tr>\n    <tr>\n      <th rowspan=\"3\" valign=\"top\">maze-7-5</th>\n      <th>Euclid</th>\n      <td>26.0</td>\n      <td>46.04</td>\n      <td>440.61</td>\n      <td>8.28</td>\n    </tr>\n    <tr>\n      <th>Manhattan</th>\n      <td>26.0</td>\n      <td>47.78</td>\n      <td>403.03</td>\n      <td>8.47</td>\n    </tr>\n    <tr>\n      <th>None</th>\n      <td>26.0</td>\n      <td>47.78</td>\n      <td>797.06</td>\n      <td>8.47</td>\n    </tr>\n  </tbody>\n</table>\n<p>75 rows × 4 columns</p>\n</div>"
     },
     "execution_count": 31,
     "metadata": {},
     "output_type": "execute_result"
    }
   ],
   "source": [
    "astar_df.groupby(['maze', 'heuristic']).mean()"
   ],
   "metadata": {
    "collapsed": false,
    "pycharm": {
     "name": "#%%\n"
    }
   }
  },
  {
   "cell_type": "code",
   "execution_count": 86,
   "outputs": [],
   "source": [
    "all_df_sel = all_df[all_df.maze.str.contains(\"-50-\")].groupby(['maze', 'agent'], observed=True).agg(optimal_steps=('optimal_steps', max),\n",
    "                                      min_steps=('steps_taken', min),\n",
    "                                      mean_steps=('steps_taken', np.mean),\n",
    "                                      max_steps=('steps_taken', max),\n",
    "                                      std_steps=('steps_taken', np.std),\n",
    "                                      min_expanded=('expanded_nodes', min),\n",
    "                                      mean_expanded=('expanded_nodes', np.mean),\n",
    "                                      max_expanded=('expanded_nodes', max),\n",
    "                                      std_expanded=('expanded_nodes', np.std),\n",
    "                                      min_plan=('replan_count', min),\n",
    "                                      mean_plan=('replan_count', np.mean),\n",
    "                                      max_plan=('replan_count', max),\n",
    "                                      std_plan=('replan_count', np.std))"
   ],
   "metadata": {
    "collapsed": false,
    "pycharm": {
     "name": "#%%\n"
    }
   }
  },
  {
   "cell_type": "code",
   "execution_count": 85,
   "outputs": [
    {
     "data": {
      "text/plain": "           optimal_steps  steps_taken  expanded_nodes  replan_count\nmaze                                                               \nmaze-50-1          198.0     368.2725     109516.6600       45.1475\nmaze-50-2          204.0     380.2275     112208.6075       43.9350\nmaze-50-3          198.0     369.2175     100619.6850       44.1150\nmaze-50-4          198.0     366.1900     105085.0350       42.6925\nmaze-50-5          202.0     372.8650     108644.0300       44.6075",
      "text/html": "<div>\n<style scoped>\n    .dataframe tbody tr th:only-of-type {\n        vertical-align: middle;\n    }\n\n    .dataframe tbody tr th {\n        vertical-align: top;\n    }\n\n    .dataframe thead th {\n        text-align: right;\n    }\n</style>\n<table border=\"1\" class=\"dataframe\">\n  <thead>\n    <tr style=\"text-align: right;\">\n      <th></th>\n      <th>optimal_steps</th>\n      <th>steps_taken</th>\n      <th>expanded_nodes</th>\n      <th>replan_count</th>\n    </tr>\n    <tr>\n      <th>maze</th>\n      <th></th>\n      <th></th>\n      <th></th>\n      <th></th>\n    </tr>\n  </thead>\n  <tbody>\n    <tr>\n      <th>maze-50-1</th>\n      <td>198.0</td>\n      <td>368.2725</td>\n      <td>109516.6600</td>\n      <td>45.1475</td>\n    </tr>\n    <tr>\n      <th>maze-50-2</th>\n      <td>204.0</td>\n      <td>380.2275</td>\n      <td>112208.6075</td>\n      <td>43.9350</td>\n    </tr>\n    <tr>\n      <th>maze-50-3</th>\n      <td>198.0</td>\n      <td>369.2175</td>\n      <td>100619.6850</td>\n      <td>44.1150</td>\n    </tr>\n    <tr>\n      <th>maze-50-4</th>\n      <td>198.0</td>\n      <td>366.1900</td>\n      <td>105085.0350</td>\n      <td>42.6925</td>\n    </tr>\n    <tr>\n      <th>maze-50-5</th>\n      <td>202.0</td>\n      <td>372.8650</td>\n      <td>108644.0300</td>\n      <td>44.6075</td>\n    </tr>\n  </tbody>\n</table>\n</div>"
     },
     "execution_count": 85,
     "metadata": {},
     "output_type": "execute_result"
    }
   ],
   "source": [
    "all_df[all_df.maze.str.contains(\"-50-\")].groupby(['maze'], observed=True).mean()"
   ],
   "metadata": {
    "collapsed": false,
    "pycharm": {
     "name": "#%%\n"
    }
   }
  }
 ],
 "metadata": {
  "kernelspec": {
   "display_name": "Python 3",
   "language": "python",
   "name": "python3"
  },
  "language_info": {
   "codemirror_mode": {
    "name": "ipython",
    "version": 2
   },
   "file_extension": ".py",
   "mimetype": "text/x-python",
   "name": "python",
   "nbconvert_exporter": "python",
   "pygments_lexer": "ipython2",
   "version": "2.7.6"
  }
 },
 "nbformat": 4,
 "nbformat_minor": 0
}